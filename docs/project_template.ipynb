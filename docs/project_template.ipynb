{
 "cells": [
  {
   "cell_type": "markdown",
   "metadata": {},
   "source": [
    "# Analiza czasu pracy kierowców"
   ]
  },
  {
   "cell_type": "markdown",
   "metadata": {},
   "source": [
    "## Specyfikacja / Specs\n",
    "\n",
    "* Użytkownik może wprowadzić dane z zadaniami oraz pobrać dane wynikowe w formacie .xlsx\n",
    "* Dane wejściowe to pliki .csv. Każdy plik odpowiada za odpowiednie zadanie. W plikach występują problemy z formatem danych np. data raz jest w formacie daty, raz jako string, godzina \n",
    "* Podstawowe funkcje to oczyszczenie i połączenie danych wejściowych, wyliczenie potrzebnych "
   ]
  },
  {
   "cell_type": "markdown",
   "metadata": {},
   "source": [
    "## Architektura\n",
    "\n",
    "W katalogu głównym znajdują się pliki z kodem oraz katalogi:\n",
    "* utils z kodem pomocniczym\n",
    "* docs z dokumentacją\n",
    "* data z plikami zawierającymi dane do projektu\n",
    "\n",
    "W katalogu utils znajdują się następujące pliki:\n",
    "* convert_to_time - funkcja konversji czasu\n",
    "* process_overtime_files.py - funkcja do przetwarzania plików .csv z czasem nadgodzin\n",
    "* process_task_files.py - funkcja do przetwarzania plików .csc z czasem realizacji zadań kierowców\n",
    "\n",
    "Katalog data podzielony jest na katalogi pomagające ustrukturyzować przechowywanie danych. Katalg input zawiera dane wejściowe, a katalog output dane wyjściowe. Katalog input zawiera następujące podkatalogi:\n",
    "* overtime, który zawieraja plik 50.csv, oraz 100.csv z liczbą nadgodzin 50% i 100%\n",
    "* tasks, który zawiera pliki z czasem, jaki kierowcy spędzają na realizacji przypisanych im zadań\n",
    "\n",
    "Katalog docs zawiera dokumentację projektu\n",
    "\n",
    "W katalogu głównym znajdują się następujące pliki:\n",
    "* app.py - główny plik aplikacji\n",
    "* requirements.txt - plik z zależnościami projektu\n",
    "* .env - plik z ustawieniami środowiska\n",
    "* .gitignore - plik określający jakie pliki/katalogi mają być ignorowane przez repozytorium git\n"
   ]
  },
  {
   "cell_type": "markdown",
   "metadata": {},
   "source": [
    "## Plan / Taski\n",
    "* v1 - oczyszczenie danych w plikach csv z zadaniami, aby każda kolumna miała odpowiedni typ danych, wyeliminowanie pustych wierszy, powtórzonych nagłówków itp.\n",
    "* v2 - połączenie danych w dataframe\n",
    "* v3 - wyliczenie % wykorzystania limitu rocznego przez kierowcę\n",
    "* v4 - wyliczenie ilości brakujących etatów\n",
    "* v5 - usunięcie z dataframe wierszy zawierających same zera poza kolumną ID\n",
    "* v6 - stworzenie interface'u pozwalającego na samodzielne dodawania plików z zadaniami oraz normy czasu pracy na dany rok\n",
    "* v7 - automatyzacja oczyszczenia danych i tworzenia dataframe\n",
    "* v8 - umożliwienie pobrania pliku z oczyszczonymi, połączonymi danymi w formacie xlsx\n",
    "* v9 - wymyślenie jakie dodatkowe informacje można wycisnąć z danych"
   ]
  },
  {
   "cell_type": "markdown",
   "metadata": {},
   "source": [
    "## Zależności\n",
    "* `streamlit` - do budowy interfejsu użytkownika.\n",
    "* `dotenv` - do przechowywania klucza openai.\n",
    "* `openai` i modelu `gpt-4o` do analizy danych.\n",
    "* `openpyxl` - biblioteka do obsługi plików Excela"
   ]
  },
  {
   "cell_type": "markdown",
   "metadata": {},
   "source": [
    "## Instalujemy wymagane biblioteki (conda wymagana)\n",
    "\n",
    "- otwórz terminal\n",
    "- uruchom `conda activate od_zera_do_ai`\n",
    "- uruchom `conda config --append channels conda-forge`\n",
    "- uruchom `conda install -y streamlit openai==1.47.0 python-dotenv`\n",
    "- uruchom `conda install openpyxl`"
   ]
  }
 ],
 "metadata": {
  "kernelspec": {
   "display_name": "Python 3 (ipykernel)",
   "language": "python",
   "name": "python3"
  },
  "language_info": {
   "codemirror_mode": {
    "name": "ipython",
    "version": 3
   },
   "file_extension": ".py",
   "mimetype": "text/x-python",
   "name": "python",
   "nbconvert_exporter": "python",
   "pygments_lexer": "ipython3",
   "version": "3.11.9"
  }
 },
 "nbformat": 4,
 "nbformat_minor": 4
}
